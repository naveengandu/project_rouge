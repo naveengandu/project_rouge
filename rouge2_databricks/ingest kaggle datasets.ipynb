{
 "cells": [
  {
   "cell_type": "code",
   "execution_count": 0,
   "metadata": {
    "application/vnd.databricks.v1+cell": {
     "cellMetadata": {
      "byteLimit": 2048000,
      "rowLimit": 10000
     },
     "inputWidgets": {},
     "nuid": "bfe27229-453a-4d68-ad00-fe472c20721f",
     "showTitle": false,
     "tableResultSettingsMap": {},
     "title": ""
    }
   },
   "outputs": [
    {
     "output_type": "stream",
     "name": "stdout",
     "output_type": "stream",
     "text": [
      "Collecting kaggle\n  Obtaining dependency information for kaggle from https://files.pythonhosted.org/packages/75/f6/cccedb8db42beac1c5d7cfa57d5b800b90ef91118833972af3f7b5e159c8/kaggle-1.7.4.2-py3-none-any.whl.metadata\n  Downloading kaggle-1.7.4.2-py3-none-any.whl.metadata (16 kB)\nRequirement already satisfied: azure-storage-blob in /databricks/python3/lib/python3.11/site-packages (12.19.1)\nCollecting bleach (from kaggle)\n  Obtaining dependency information for bleach from https://files.pythonhosted.org/packages/fc/55/96142937f66150805c25c4d0f31ee4132fd33497753400734f9dfdcbdc66/bleach-6.2.0-py3-none-any.whl.metadata\n  Downloading bleach-6.2.0-py3-none-any.whl.metadata (30 kB)\nRequirement already satisfied: certifi>=14.05.14 in /databricks/python3/lib/python3.11/site-packages (from kaggle) (2023.7.22)\nRequirement already satisfied: charset-normalizer in /databricks/python3/lib/python3.11/site-packages (from kaggle) (2.0.4)\nRequirement already satisfied: idna in /databricks/python3/lib/python3.11/site-packages (from kaggle) (3.4)\nRequirement already satisfied: protobuf in /databricks/python3/lib/python3.11/site-packages (from kaggle) (4.24.1)\nRequirement already satisfied: python-dateutil>=2.5.3 in /databricks/python3/lib/python3.11/site-packages (from kaggle) (2.8.2)\nCollecting python-slugify (from kaggle)\n  Obtaining dependency information for python-slugify from https://files.pythonhosted.org/packages/a4/62/02da182e544a51a5c3ccf4b03ab79df279f9c60c5e82d5e8bec7ca26ac11/python_slugify-8.0.4-py2.py3-none-any.whl.metadata\n  Downloading python_slugify-8.0.4-py2.py3-none-any.whl.metadata (8.5 kB)\nRequirement already satisfied: requests in /databricks/python3/lib/python3.11/site-packages (from kaggle) (2.31.0)\nRequirement already satisfied: setuptools>=21.0.0 in /databricks/python3/lib/python3.11/site-packages (from kaggle) (68.0.0)\nRequirement already satisfied: six>=1.10 in /usr/lib/python3/dist-packages (from kaggle) (1.16.0)\nCollecting text-unidecode (from kaggle)\n  Obtaining dependency information for text-unidecode from https://files.pythonhosted.org/packages/a6/a5/c0b6468d3824fe3fde30dbb5e1f687b291608f9473681bbf7dabbf5a87d7/text_unidecode-1.3-py2.py3-none-any.whl.metadata\n  Downloading text_unidecode-1.3-py2.py3-none-any.whl.metadata (2.4 kB)\nCollecting tqdm (from kaggle)\n  Obtaining dependency information for tqdm from https://files.pythonhosted.org/packages/d0/30/dc54f88dd4a2b5dc8a0279bdd7270e735851848b762aeb1c1184ed1f6b14/tqdm-4.67.1-py3-none-any.whl.metadata\n  Downloading tqdm-4.67.1-py3-none-any.whl.metadata (57 kB)\n\u001B[?25l     \u001B[90m━━━━━━━━━━━━━━━━━━━━━━━━━━━━━━━━━━━━━━━━\u001B[0m \u001B[32m0.0/57.7 kB\u001B[0m \u001B[31m?\u001B[0m eta \u001B[36m-:--:--\u001B[0m\n\u001B[2K     \u001B[90m━━━━━━━━━━━━━━━━━━━━━━━━━━━━━━━━━━━━━━━━\u001B[0m \u001B[32m57.7/57.7 kB\u001B[0m \u001B[31m2.7 MB/s\u001B[0m eta \u001B[36m0:00:00\u001B[0m\n\u001B[?25hRequirement already satisfied: urllib3>=1.15.1 in /databricks/python3/lib/python3.11/site-packages (from kaggle) (1.26.16)\nCollecting webencodings (from kaggle)\n  Obtaining dependency information for webencodings from https://files.pythonhosted.org/packages/f4/24/2a3e3df732393fed8b3ebf2ec078f05546de641fe1b667ee316ec1dcf3b7/webencodings-0.5.1-py2.py3-none-any.whl.metadata\n  Downloading webencodings-0.5.1-py2.py3-none-any.whl.metadata (2.1 kB)\nRequirement already satisfied: azure-core<2.0.0,>=1.28.0 in /databricks/python3/lib/python3.11/site-packages (from azure-storage-blob) (1.30.2)\nRequirement already satisfied: cryptography>=2.1.4 in /databricks/python3/lib/python3.11/site-packages (from azure-storage-blob) (41.0.3)\nRequirement already satisfied: typing-extensions>=4.3.0 in /databricks/python3/lib/python3.11/site-packages (from azure-storage-blob) (4.10.0)\nRequirement already satisfied: isodate>=0.6.1 in /databricks/python3/lib/python3.11/site-packages (from azure-storage-blob) (0.6.1)\nRequirement already satisfied: cffi>=1.12 in /databricks/python3/lib/python3.11/site-packages (from cryptography>=2.1.4->azure-storage-blob) (1.15.1)\nRequirement already satisfied: pycparser in /databricks/python3/lib/python3.11/site-packages (from cffi>=1.12->cryptography>=2.1.4->azure-storage-blob) (2.21)\nDownloading kaggle-1.7.4.2-py3-none-any.whl (173 kB)\n\u001B[?25l   \u001B[90m━━━━━━━━━━━━━━━━━━━━━━━━━━━━━━━━━━━━━━━━\u001B[0m \u001B[32m0.0/173.2 kB\u001B[0m \u001B[31m?\u001B[0m eta \u001B[36m-:--:--\u001B[0m\n\u001B[2K   \u001B[91m━━━━━━━━━━━━━━━━━━━━━━━━━━━━━━━━━\u001B[0m\u001B[90m╺\u001B[0m\u001B[90m━━━━━━\u001B[0m \u001B[32m143.4/173.2 kB\u001B[0m \u001B[31m4.1 MB/s\u001B[0m eta \u001B[36m0:00:01\u001B[0m\n\u001B[2K   \u001B[90m━━━━━━━━━━━━━━━━━━━━━━━━━━━━━━━━━━━━━━━━\u001B[0m \u001B[32m173.2/173.2 kB\u001B[0m \u001B[31m3.8 MB/s\u001B[0m eta \u001B[36m0:00:00\u001B[0m\n\u001B[?25hDownloading bleach-6.2.0-py3-none-any.whl (163 kB)\n\u001B[?25l   \u001B[90m━━━━━━━━━━━━━━━━━━━━━━━━━━━━━━━━━━━━━━━━\u001B[0m \u001B[32m0.0/163.4 kB\u001B[0m \u001B[31m?\u001B[0m eta \u001B[36m-:--:--\u001B[0m\n\u001B[2K   \u001B[90m━━━━━━━━━━━━━━━━━━━━━━━━━━━━━━━━━━━━━━━━\u001B[0m \u001B[32m163.4/163.4 kB\u001B[0m \u001B[31m12.8 MB/s\u001B[0m eta \u001B[36m0:00:00\u001B[0m\n\u001B[?25hDownloading python_slugify-8.0.4-py2.py3-none-any.whl (10 kB)\nDownloading text_unidecode-1.3-py2.py3-none-any.whl (78 kB)\n\u001B[?25l   \u001B[90m━━━━━━━━━━━━━━━━━━━━━━━━━━━━━━━━━━━━━━━━\u001B[0m \u001B[32m0.0/78.2 kB\u001B[0m \u001B[31m?\u001B[0m eta \u001B[36m-:--:--\u001B[0m\n\u001B[2K   \u001B[90m━━━━━━━━━━━━━━━━━━━━━━━━━━━━━━━━━━━━━━━━\u001B[0m \u001B[32m78.2/78.2 kB\u001B[0m \u001B[31m10.7 MB/s\u001B[0m eta \u001B[36m0:00:00\u001B[0m\n\u001B[?25hDownloading tqdm-4.67.1-py3-none-any.whl (78 kB)\n\u001B[?25l   \u001B[90m━━━━━━━━━━━━━━━━━━━━━━━━━━━━━━━━━━━━━━━━\u001B[0m \u001B[32m0.0/78.5 kB\u001B[0m \u001B[31m?\u001B[0m eta \u001B[36m-:--:--\u001B[0m\n\u001B[2K   \u001B[90m━━━━━━━━━━━━━━━━━━━━━━━━━━━━━━━━━━━━━━━━\u001B[0m \u001B[32m78.5/78.5 kB\u001B[0m \u001B[31m9.6 MB/s\u001B[0m eta \u001B[36m0:00:00\u001B[0m\n\u001B[?25hDownloading webencodings-0.5.1-py2.py3-none-any.whl (11 kB)\nInstalling collected packages: webencodings, text-unidecode, tqdm, python-slugify, bleach, kaggle\nSuccessfully installed bleach-6.2.0 kaggle-1.7.4.2 python-slugify-8.0.4 text-unidecode-1.3 tqdm-4.67.1 webencodings-0.5.1\n\u001B[43mNote: you may need to restart the kernel using %restart_python or dbutils.library.restartPython() to use updated packages.\u001B[0m\n"
     ]
    }
   ],
   "source": [
    "%pip install kaggle azure-storage-blob"
   ]
  },
  {
   "cell_type": "code",
   "execution_count": 0,
   "metadata": {
    "application/vnd.databricks.v1+cell": {
     "cellMetadata": {
      "byteLimit": 2048000,
      "rowLimit": 10000
     },
     "inputWidgets": {},
     "nuid": "5dd5afb8-fb15-4540-ae24-d2bc987382cc",
     "showTitle": false,
     "tableResultSettingsMap": {},
     "title": ""
    }
   },
   "outputs": [],
   "source": [
    "import os\n",
    "from azure.storage.blob import BlobServiceClient"
   ]
  },
  {
   "cell_type": "code",
   "execution_count": 0,
   "metadata": {
    "application/vnd.databricks.v1+cell": {
     "cellMetadata": {
      "byteLimit": 2048000,
      "rowLimit": 10000
     },
     "inputWidgets": {},
     "nuid": "f1fb28a4-0c47-4a28-901b-5e58c79a8b28",
     "showTitle": false,
     "tableResultSettingsMap": {},
     "title": ""
    }
   },
   "outputs": [],
   "source": [
    "# Assign the authentication details prior to importing the Kaggle library because it authenticates at the time of import.\n",
    "os.environ['KAGGLE_USERNAME'] = 'naveengandu'\n",
    "os.environ['KAGGLE_KEY'] = '407179e1a8def05b1b8baf22198b993a'"
   ]
  },
  {
   "cell_type": "code",
   "execution_count": 0,
   "metadata": {
    "application/vnd.databricks.v1+cell": {
     "cellMetadata": {
      "byteLimit": 2048000,
      "rowLimit": 10000
     },
     "inputWidgets": {},
     "nuid": "a8fbabb3-1f0e-4497-88d1-7c2290cbcca6",
     "showTitle": false,
     "tableResultSettingsMap": {},
     "title": ""
    }
   },
   "outputs": [],
   "source": [
    "# Import the kaggle library\n",
    "from kaggle.api.kaggle_api_extended import KaggleApi"
   ]
  },
  {
   "cell_type": "code",
   "execution_count": 0,
   "metadata": {
    "application/vnd.databricks.v1+cell": {
     "cellMetadata": {
      "byteLimit": 2048000,
      "rowLimit": 10000
     },
     "inputWidgets": {},
     "nuid": "c21f2873-dcbe-462b-95e3-8f73ef9764ef",
     "showTitle": false,
     "tableResultSettingsMap": {},
     "title": ""
    }
   },
   "outputs": [],
   "source": [
    "# Initialize Kaggle API\n",
    "api = KaggleApi()\n",
    "api.authenticate()"
   ]
  },
  {
   "cell_type": "code",
   "execution_count": 0,
   "metadata": {
    "application/vnd.databricks.v1+cell": {
     "cellMetadata": {
      "byteLimit": 2048000,
      "rowLimit": 10000
     },
     "inputWidgets": {},
     "nuid": "125a4472-7e1b-4c48-ab7e-44162e087edc",
     "showTitle": false,
     "tableResultSettingsMap": {},
     "title": ""
    }
   },
   "outputs": [],
   "source": [
    "# Azure Data Lake Storage credentials\n",
    "# Hardcoding these keys isn't the best practice due to potential security risks. However, for the sake of simplicity and limitations of the trial databricks subscription, this method was followed.\n",
    "STORAGE_ACCOUNT_NAME = \"projectrouge6363905707\"\n",
    "STORAGE_ACCOUNT_KEY = \"Mrth7ayFyx5DPRYkTmtMwRFrq0IU9WQuB/xCFsNbn/ApJOTP1m66DM5/M8BSikzUPMVTmxPcIRgc+AStAPeDdg==\"\n",
    "CONTAINER_NAME = \"rawkaggledata\""
   ]
  },
  {
   "cell_type": "code",
   "execution_count": 0,
   "metadata": {
    "application/vnd.databricks.v1+cell": {
     "cellMetadata": {
      "byteLimit": 2048000,
      "rowLimit": 10000
     },
     "inputWidgets": {},
     "nuid": "d04c442e-d1d0-4b4f-aff3-da3aa23fd1a4",
     "showTitle": false,
     "tableResultSettingsMap": {},
     "title": ""
    }
   },
   "outputs": [],
   "source": [
    "# Connect to Azure Blob Storage (ADLS Gen2)\n",
    "blob_service_client = BlobServiceClient(account_url=f\"https://{STORAGE_ACCOUNT_NAME}.blob.core.windows.net\",\n",
    "                                        credential=STORAGE_ACCOUNT_KEY)\n",
    "container_client = blob_service_client.get_container_client(CONTAINER_NAME)"
   ]
  },
  {
   "cell_type": "code",
   "execution_count": 0,
   "metadata": {
    "application/vnd.databricks.v1+cell": {
     "cellMetadata": {
      "byteLimit": 2048000,
      "rowLimit": 10000
     },
     "inputWidgets": {},
     "nuid": "28162f41-d424-4667-b727-53c46db6af13",
     "showTitle": false,
     "tableResultSettingsMap": {},
     "title": ""
    }
   },
   "outputs": [],
   "source": [
    "# Define dataset\n",
    "\n",
    "# - Note to self - probably best to arrange the list in order of increasing dataset size and parallelize. This is \n",
    "# executed on a single node but might be more cost effective and efficient to run this on multiple nodes due to the huge \n",
    "# dataset sizes and the nested for loops. \n",
    "\n",
    "# - The job crashed the first time I ran it, so I rearranged the order of the datasets. \n",
    "\n",
    "# - The dataset (\"minhhuy2810/rice-diseases-image-dataset\") is too large to download in one go and so running it always \n",
    "# displays an error - \"Fatal error: The Python kernel is unresponsive.\". So removing it from the list of datasets to be \n",
    "# downloaded. A more powerful cluster would be required to download the entire dataset. \n",
    "\n",
    "datasets = [\"vbookshelf/rice-leaf-diseases\", \"maimunulkjisan/rice-leaf-dataset-from-mendeley-data\", \"anshulm257/rice-disease-dataset\", \"minhhuy2810/rice-diseases-image-dataset\"]"
   ]
  },
  {
   "cell_type": "code",
   "execution_count": 0,
   "metadata": {
    "application/vnd.databricks.v1+cell": {
     "cellMetadata": {
      "byteLimit": 2048000,
      "rowLimit": 10000
     },
     "inputWidgets": {},
     "nuid": "b13437c3-cc9a-42cc-9598-71e31d35fd85",
     "showTitle": false,
     "tableResultSettingsMap": {},
     "title": ""
    }
   },
   "outputs": [
    {
     "output_type": "display_data",
     "data": {
      "text/plain": [
       "\u001B[0;31m---------------------------------------------------------------------------\u001B[0m\n",
       "\u001B[0;31mThe Python process exited with exit code 137 (SIGKILL: Killed). This may have been caused by an OOM error. Check your command's memory usage.\u001B[0m\n",
       "\u001B[0;31m\u001B[0m\n",
       "\u001B[0;31m\u001B[0m\n",
       "\u001B[0;31m\u001B[0m\n",
       "\u001B[0;31mThe last 10 KB of the process's stderr and stdout can be found below. See driver logs for full logs.\u001B[0m\n",
       "\u001B[0;31m---------------------------------------------------------------------------\u001B[0m\n",
       "\u001B[0;31mLast messages on stderr:\u001B[0m\n",
       "\u001B[0;31mWed Mar 19 11:32:34 2025 Connection to spark from PID  19291\u001B[0m\n",
       "\u001B[0;31mWed Mar 19 11:32:34 2025 Initialized gateway on port 43963\u001B[0m\n",
       "\u001B[0;31mWed Mar 19 11:32:34 2025 Connected to spark.\u001B[0m\n",
       "\u001B[0;31m2025/03/19 11:32:37 WARNING mlflow.utils.autologging_utils: You are using an unsupported version of langchain. If you encounter errors during autologging, try upgrading / downgrading langchain to a supported version, or try upgrading MLflow.\u001B[0m\n",
       "\u001B[0;31m2025/03/19 11:32:38 WARNING mlflow.utils.autologging_utils: You are using an unsupported version of openai. If you encounter errors during autologging, try upgrading / downgrading openai to a supported version, or try upgrading MLflow.\u001B[0m\n",
       "\u001B[0;31m---------------------------------------------------------------------------\u001B[0m\n",
       "\u001B[0;31mLast messages on stdout:\u001B[0m\n",
       "\u001B[0;31m3.jpg to Azure Data Lake...\u001B[0m\n",
       "\u001B[0;31mUploading Rice_Leaf_AUG/Sheath Blight/aug_0_8867.jpg to Azure Data Lake...\u001B[0m\n",
       "\u001B[0;31mUploading Rice_Leaf_AUG/Sheath Blight/aug_0_8902.jpg to Azure Data Lake...\u001B[0m\n",
       "\u001B[0;31mUploading Rice_Leaf_AUG/Sheath Blight/aug_0_8907.jpg to Azure Data Lake...\u001B[0m\n",
       "\u001B[0;31mUploading Rice_Leaf_AUG/Sheath Blight/aug_0_8923.jpg to Azure Data Lake...\u001B[0m\n",
       "\u001B[0;31mUploading Rice_Leaf_AUG/Sheath Blight/aug_0_8933.jpg to Azure Data Lake...\u001B[0m\n",
       "\u001B[0;31mUploading Rice_Leaf_AUG/Sheath Blight/aug_0_8935.jpg to Azure Data Lake...\u001B[0m\n",
       "\u001B[0;31mUploading Rice_Leaf_AUG/Sheath Blight/aug_0_8966.jpg to Azure Data Lake...\u001B[0m\n",
       "\u001B[0;31mUploading Rice_Leaf_AUG/Sheath Blight/aug_0_8989.jpg to Azure Data Lake...\u001B[0m\n",
       "\u001B[0;31mUploading Rice_Leaf_AUG/Sheath Blight/aug_0_8999.jpg to Azure Data Lake...\u001B[0m\n",
       "\u001B[0;31mUploading Rice_Leaf_AUG/Sheath Blight/aug_0_90.jpg to Azure Data Lake...\u001B[0m\n",
       "\u001B[0;31mUploading Rice_Leaf_AUG/Sheath Blight/aug_0_9007.jpg to Azure Data Lake...\u001B[0m\n",
       "\u001B[0;31mUploading Rice_Leaf_AUG/Sheath Blight/aug_0_9011.jpg to Azure Data Lake...\u001B[0m\n",
       "\u001B[0;31mUploading Rice_Leaf_AUG/Sheath Blight/aug_0_9016.jpg to Azure Data Lake...\u001B[0m\n",
       "\u001B[0;31mUploading Rice_Leaf_AUG/Sheath Blight/aug_0_9021.jpg to Azure Data Lake...\u001B[0m\n",
       "\u001B[0;31mUploading Rice_Leaf_AUG/Sheath Blight/aug_0_9028.jpg to Azure Data Lake...\u001B[0m\n",
       "\u001B[0;31mUploading Rice_Leaf_AUG/Sheath Blight/aug_0_9038.jpg to Azure Data Lake...\u001B[0m\n",
       "\u001B[0;31mUploading Rice_Leaf_AUG/Sheath Blight/aug_0_9048.jpg to Azure Data Lake...\u001B[0m\n",
       "\u001B[0;31mUploading Rice_Leaf_AUG/Sheath Blight/aug_0_9066.jpg to Azure Data Lake...\u001B[0m\n",
       "\u001B[0;31mUploading Rice_Leaf_AUG/Sheath Blight/aug_0_9073.jpg to Azure Data Lake...\u001B[0m\n",
       "\u001B[0;31mUploading Rice_Leaf_AUG/Sheath Blight/aug_0_9077.jpg to Azure Data Lake...\u001B[0m\n",
       "\u001B[0;31mUploading Rice_Leaf_AUG/Sheath Blight/aug_0_9084.jpg to Azure Data Lake...\u001B[0m\n",
       "\u001B[0;31mUploading Rice_Leaf_AUG/Sheath Blight/aug_0_9093.jpg to Azure Data Lake...\u001B[0m\n",
       "\u001B[0;31mUploading Rice_Leaf_AUG/Sheath Blight/aug_0_9095.jpg to Azure Data Lake...\u001B[0m\n",
       "\u001B[0;31mUploading Rice_Leaf_AUG/Sheath Blight/aug_0_9100.jpg to Azure Data Lake...\u001B[0m\n",
       "\u001B[0;31mUploading Rice_Leaf_AUG/Sheath Blight/aug_0_9103.jpg to Azure Data Lake...\u001B[0m\n",
       "\u001B[0;31mUploading Rice_Leaf_AUG/Sheath Blight/aug_0_9121.jpg to Azure Data Lake...\u001B[0m\n",
       "\u001B[0;31mUploading Rice_Leaf_AUG/Sheath Blight/aug_0_9130.jpg to Azure Data Lake...\u001B[0m\n",
       "\u001B[0;31mUploading Rice_Leaf_AUG/Sheath Blight/aug_0_9134.jpg to Azure Data Lake...\u001B[0m\n",
       "\u001B[0;31mUploading Rice_Leaf_AUG/Sheath Blight/aug_0_9140.jpg to Azure Data Lake...\u001B[0m\n",
       "\u001B[0;31mUploading Rice_Leaf_AUG/Sheath Blight/aug_0_9141.jpg to Azure Data Lake...\u001B[0m\n",
       "\u001B[0;31mUploading Rice_Leaf_AUG/Sheath Blight/aug_0_9156.jpg to Azure Data Lake...\u001B[0m\n",
       "\u001B[0;31mUploading Rice_Leaf_AUG/Sheath Blight/aug_0_9161.jpg to Azure Data Lake...\u001B[0m\n",
       "\u001B[0;31mUploading Rice_Leaf_AUG/Sheath Blight/aug_0_9173.jpg to Azure Data Lake...\u001B[0m\n",
       "\u001B[0;31mUploading Rice_Leaf_AUG/Sheath Blight/aug_0_9180.jpg to Azure Data Lake...\u001B[0m\n",
       "\u001B[0;31mUploading Rice_Leaf_AUG/Sheath Blight/aug_0_9196.jpg to Azure Data Lake...\u001B[0m\n",
       "\u001B[0;31mUploading Rice_Leaf_AUG/Sheath Blight/aug_0_9197.jpg to Azure Data Lake...\u001B[0m\n",
       "\u001B[0;31mUploading Rice_Leaf_AUG/Sheath Blight/aug_0_9212.jpg to Azure Data Lake...\u001B[0m\n",
       "\u001B[0;31mUploading Rice_Leaf_AUG/Sheath Blight/aug_0_9227.jpg to Azure Data Lake...\u001B[0m\n",
       "\u001B[0;31mUploading Rice_Leaf_AUG/Sheath Blight/aug_0_9257.jpg to Azure Data Lake...\u001B[0m\n",
       "\u001B[0;31mUploading Rice_Leaf_AUG/Sheath Blight/aug_0_9258.jpg to Azure Data Lake...\u001B[0m\n",
       "\u001B[0;31mUploading Rice_Leaf_AUG/Sheath Blight/aug_0_9270.jpg to Azure Data Lake...\u001B[0m\n",
       "\u001B[0;31mUploading Rice_Leaf_AUG/Sheath Blight/aug_0_9274.jpg to Azure Data Lake...\u001B[0m\n",
       "\u001B[0;31mUploading Rice_Leaf_AUG/Sheath Blight/aug_0_93.jpg to Azure Data Lake...\u001B[0m\n",
       "\u001B[0;31mUploading Rice_Leaf_AUG/Sheath Blight/aug_0_9313.jpg to Azure Data Lake...\u001B[0m\n",
       "\u001B[0;31mUploading Rice_Leaf_AUG/Sheath Blight/aug_0_9317.jpg to Azure Data Lake...\u001B[0m\n",
       "\u001B[0;31mUploading Rice_Leaf_AUG/Sheath Blight/aug_0_9318.jpg to Azure Data Lake...\u001B[0m\n",
       "\u001B[0;31mUploading Rice_Leaf_AUG/Sheath Blight/aug_0_9333.jpg to Azure Data Lake...\u001B[0m\n",
       "\u001B[0;31mUploading Rice_Leaf_AUG/Sheath Blight/aug_0_9335.jpg to Azure Data Lake...\u001B[0m\n",
       "\u001B[0;31mUploading Rice_Leaf_AUG/Sheath Blight/aug_0_9338.jpg to Azure Data Lake...\u001B[0m\n",
       "\u001B[0;31mUploading Rice_Leaf_AUG/Sheath Blight/aug_0_9348.jpg to Azure Data Lake...\u001B[0m\n",
       "\u001B[0;31mUploading Rice_Leaf_AUG/Sheath Blight/aug_0_9351.jpg to Azure Data Lake...\u001B[0m\n",
       "\u001B[0;31mUploading Rice_Leaf_AUG/Sheath Blight/aug_0_9353.jpg to Azure Data Lake...\u001B[0m\n",
       "\u001B[0;31mUploading Rice_Leaf_AUG/Sheath Blight/aug_0_9361.jpg to Azure Data Lake...\u001B[0m\n",
       "\u001B[0;31mUploading Rice_Leaf_AUG/Sheath Blight/aug_0_9363.jpg to Azure Data Lake...\u001B[0m\n",
       "\u001B[0;31mUploading Rice_Leaf_AUG/Sheath Blight/aug_0_9364.jpg to Azure Data Lake...\u001B[0m\n",
       "\u001B[0;31mUploading Rice_Leaf_AUG/Sheath Blight/aug_0_9367.jpg to Azure Data Lake...\u001B[0m\n",
       "\u001B[0;31mUploading Rice_Leaf_AUG/Sheath Blight/aug_0_9384.jpg to Azure Data Lake...\u001B[0m\n",
       "\u001B[0;31mUploading Rice_Leaf_AUG/Sheath Blight/aug_0_9399.jpg to Azure Data Lake...\u001B[0m\n",
       "\u001B[0;31mUploading Rice_Leaf_AUG/Sheath Blight/aug_0_9400.jpg to Azure Data Lake...\u001B[0m\n",
       "\u001B[0;31mUploading Rice_Leaf_AUG/Sheath Blight/aug_0_9401.jpg to Azure Data Lake...\u001B[0m\n",
       "\u001B[0;31mUploading Rice_Leaf_AUG/Sheath Blight/aug_0_9403.jpg to Azure Data Lake...\u001B[0m\n",
       "\u001B[0;31mUploading Rice_Leaf_AUG/Sheath Blight/aug_0_9405.jpg to Azure Data Lake...\u001B[0m\n",
       "\u001B[0;31mUploading Rice_Leaf_AUG/Sheath Blight/aug_0_9419.jpg to Azure Data Lake...\u001B[0m\n",
       "\u001B[0;31mUploading Rice_Leaf_AUG/Sheath Blight/aug_0_9420.jpg to Azure Data Lake...\u001B[0m\n",
       "\u001B[0;31mUploading Rice_Leaf_AUG/Sheath Blight/aug_0_9431.jpg to Azure Data Lake...\u001B[0m\n",
       "\u001B[0;31mUploading Rice_Leaf_AUG/Sheath Blight/aug_0_9450.jpg to Azure Data Lake...\u001B[0m\n",
       "\u001B[0;31mUploading Rice_Leaf_AUG/Sheath Blight/aug_0_9458.jpg to Azure Data Lake...\u001B[0m\n",
       "\u001B[0;31mUploading Rice_Leaf_AUG/Sheath Blight/aug_0_9468.jpg to Azure Data Lake...\u001B[0m\n",
       "\u001B[0;31mUploading Rice_Leaf_AUG/Sheath Blight/aug_0_9474.jpg to Azure Data Lake...\u001B[0m\n",
       "\u001B[0;31mUploading Rice_Leaf_AUG/Sheath Blight/aug_0_9480.jpg to Azure Data Lake...\u001B[0m\n",
       "\u001B[0;31mUploading Rice_Leaf_AUG/Sheath Blight/aug_0_9483.jpg to Azure Data Lake...\u001B[0m\n",
       "\u001B[0;31mUploading Rice_Leaf_AUG/Sheath Blight/aug_0_9486.jpg to Azure Data Lake...\u001B[0m\n",
       "\u001B[0;31mUploading Rice_Leaf_AUG/Sheath Blight/aug_0_9487.jpg to Azure Data Lake...\u001B[0m\n",
       "\u001B[0;31mUploading Rice_Leaf_AUG/Sheath Blight/aug_0_9488.jpg to Azure Data Lake...\u001B[0m\n",
       "\u001B[0;31mUploading Rice_Leaf_AUG/Sheath Blight/aug_0_9508.jpg to Azure Data Lake...\u001B[0m\n",
       "\u001B[0;31mUploading Rice_Leaf_AUG/Sheath Blight/aug_0_9512.jpg to Azure Data Lake...\u001B[0m\n",
       "\u001B[0;31mUploading Rice_Leaf_AUG/Sheath Blight/aug_0_9525.jpg to Azure Data Lake...\u001B[0m\n",
       "\u001B[0;31mUploading Rice_Leaf_AUG/Sheath Blight/aug_0_9527.jpg to Azure Data Lake...\u001B[0m\n",
       "\u001B[0;31mUploading Rice_Leaf_AUG/Sheath Blight/aug_0_9533.jpg to Azure Data Lake...\u001B[0m\n",
       "\u001B[0;31mUploading Rice_Leaf_AUG/Sheath Blight/aug_0_9537.jpg to Azure Data Lake...\u001B[0m\n",
       "\u001B[0;31mUploading Rice_Leaf_AUG/Sheath Blight/aug_0_9547.jpg to Azure Data Lake...\u001B[0m\n",
       "\u001B[0;31mUploading Rice_Leaf_AUG/Sheath Blight/aug_0_9553.jpg to Azure Data Lake...\u001B[0m\n",
       "\u001B[0;31mUploading Rice_Leaf_AUG/Sheath Blight/aug_0_9558.jpg to Azure Data Lake...\u001B[0m\n",
       "\u001B[0;31mUploading Rice_Leaf_AUG/Sheath Blight/aug_0_9559.jpg to Azure Data Lake...\u001B[0m\n",
       "\u001B[0;31mUploading Rice_Leaf_AUG/Sheath Blight/aug_0_9575.jpg to Azure Data Lake...\u001B[0m\n",
       "\u001B[0;31mUploading Rice_Leaf_AUG/Sheath Blight/aug_0_9584.jpg to Azure Data Lake...\u001B[0m\n",
       "\u001B[0;31mUploading Rice_Leaf_AUG/Sheath Blight/aug_0_9586.jpg to Azure Data Lake...\u001B[0m\n",
       "\u001B[0;31mUploading Rice_Leaf_AUG/Sheath Blight/aug_0_9587.jpg to Azure Data Lake...\u001B[0m\n",
       "\u001B[0;31mUploading Rice_Leaf_AUG/Sheath Blight/aug_0_9592.jpg to Azure Data Lake...\u001B[0m\n",
       "\u001B[0;31mUploading Rice_Leaf_AUG/Sheath Blight/aug_0_9623.jpg to Azure Data Lake...\u001B[0m\n",
       "\u001B[0;31mUploading Rice_Leaf_AUG/Sheath Blight/aug_0_9641.jpg to Azure Data Lake...\u001B[0m\n",
       "\u001B[0;31mUploading Rice_Leaf_AUG/Sheath Blight/aug_0_9662.jpg to Azure Data Lake...\u001B[0m\n",
       "\u001B[0;31mUploading Rice_Leaf_AUG/Sheath Blight/aug_0_9665.jpg to Azure Data Lake...\u001B[0m\n",
       "\u001B[0;31mUploading Rice_Leaf_AUG/Sheath Blight/aug_0_9674.jpg to Azure Data Lake...\u001B[0m\n",
       "\u001B[0;31mUploading Rice_Leaf_AUG/Sheath Blight/aug_0_9677.jpg to Azure Data Lake...\u001B[0m\n",
       "\u001B[0;31mUploading Rice_Leaf_AUG/Sheath Blight/aug_0_9678.jpg to Azure Data Lake...\u001B[0m\n",
       "\u001B[0;31mUploading Rice_Leaf_AUG/Sheath Blight/aug_0_9683.jpg to Azure Data Lake...\u001B[0m\n",
       "\u001B[0;31mUploading Rice_Leaf_AUG/Sheath Blight/aug_0_9688.jpg to Azure Data Lake...\u001B[0m\n",
       "\u001B[0;31mUploading Rice_Leaf_AUG/Sheath Blight/aug_0_9716.jpg to Azure Data Lake...\u001B[0m\n",
       "\u001B[0;31mUploading Rice_Leaf_AUG/Sheath Blight/aug_0_9739.jpg to Azure Data Lake...\u001B[0m\n",
       "\u001B[0;31mUploading Rice_Leaf_AUG/Sheath Blight/aug_0_9780.jpg to Azure Data Lake...\u001B[0m\n",
       "\u001B[0;31mUploading Rice_Leaf_AUG/Sheath Blight/aug_0_9791.jpg to Azure Data Lake...\u001B[0m\n",
       "\u001B[0;31mUploading Rice_Leaf_AUG/Sheath Blight/aug_0_9799.jpg to Azure Data Lake...\u001B[0m\n",
       "\u001B[0;31mUploading Rice_Leaf_AUG/Sheath Blight/aug_0_9802.jpg to Azure Data Lake...\u001B[0m\n",
       "\u001B[0;31mUploading Rice_Leaf_AUG/Sheath Blight/aug_0_9803.jpg to Azure Data Lake...\u001B[0m\n",
       "\u001B[0;31mUploading Rice_Leaf_AUG/Sheath Blight/aug_0_9805.jpg to Azure Data Lake...\u001B[0m\n",
       "\u001B[0;31mUploading Rice_Leaf_AUG/Sheath Blight/aug_0_9807.jpg to Azure Data Lake...\u001B[0m\n",
       "\u001B[0;31mUploading Rice_Leaf_AUG/Sheath Blight/aug_0_9828.jpg to Azure Data Lake...\u001B[0m\n",
       "\u001B[0;31mUploading Rice_Leaf_AUG/Sheath Blight/aug_0_9830.jpg to Azure Data Lake...\u001B[0m\n",
       "\u001B[0;31mUploading Rice_Leaf_AUG/Sheath Blight/aug_0_9835.jpg to Azure Data Lake...\u001B[0m\n",
       "\u001B[0;31mUploading Rice_Leaf_AUG/Sheath Blight/aug_0_9839.jpg to Azure Data Lake...\u001B[0m\n",
       "\u001B[0;31mUploading Rice_Leaf_AUG/Sheath Blight/aug_0_9845.jpg to Azure Data Lake...\u001B[0m\n",
       "\u001B[0;31mUploading Rice_Leaf_AUG/Sheath Blight/aug_0_9867.jpg to Azure Data Lake...\u001B[0m\n",
       "\u001B[0;31mUploading Rice_Leaf_AUG/Sheath Blight/aug_0_9873.jpg to Azure Data Lake...\u001B[0m\n",
       "\u001B[0;31mUploading Rice_Leaf_AUG/Sheath Blight/aug_0_9874.jpg to Azure Data Lake...\u001B[0m\n",
       "\u001B[0;31mUploading Rice_Leaf_AUG/Sheath Blight/aug_0_9878.jpg to Azure Data Lake...\u001B[0m\n",
       "\u001B[0;31mUploading Rice_Leaf_AUG/Sheath Blight/aug_0_9883.jpg to Azure Data Lake...\u001B[0m\n",
       "\u001B[0;31mUploading Rice_Leaf_AUG/Sheath Blight/aug_0_9887.jpg to Azure Data Lake...\u001B[0m\n",
       "\u001B[0;31mUploading Rice_Leaf_AUG/Sheath Blight/aug_0_9890.jpg to Azure Data Lake...\u001B[0m\n",
       "\u001B[0;31mUploading Rice_Leaf_AUG/Sheath Blight/aug_0_9894.jpg to Azure Data Lake...\u001B[0m\n",
       "\u001B[0;31mUploading Rice_Leaf_AUG/Sheath Blight/aug_0_9899.jpg to Azure Data Lake...\u001B[0m\n",
       "\u001B[0;31mUploading Rice_Leaf_AUG/Sheath Blight/aug_0_99.jpg to Azure Data Lake...\u001B[0m\n",
       "\u001B[0;31mUploading Rice_Leaf_AUG/Sheath Blight/aug_0_9901.jpg to Azure Data Lake...\u001B[0m\n",
       "\u001B[0;31mUploading Rice_Leaf_AUG/Sheath Blight/aug_0_9907.jpg to Azure Data Lake...\u001B[0m\n",
       "\u001B[0;31mUploading Rice_Leaf_AUG/Sheath Blight/aug_0_9918.jpg to Azure Data Lake...\u001B[0m\n",
       "\u001B[0;31mUploading Rice_Leaf_AUG/Sheath Blight/aug_0_9919.jpg to Azure Data Lake...\u001B[0m\n",
       "\u001B[0;31mUploading Rice_Leaf_AUG/Sheath Blight/aug_0_9935.jpg to Azure Data Lake...\u001B[0m\n",
       "\u001B[0;31mUploading Rice_Leaf_AUG/Sheath Blight/aug_0_9942.jpg to Azure Data Lake...\u001B[0m\n",
       "\u001B[0;31mUploading Rice_Leaf_AUG/Sheath Blight/aug_0_9947.jpg to Azure Data Lake...\u001B[0m\n",
       "\u001B[0;31mUploading Rice_Leaf_AUG/Sheath Blight/aug_0_9955.jpg to Azure Data Lake...\u001B[0m\n",
       "\u001B[0;31mUploading Rice_Leaf_AUG/Sheath Blight/aug_0_9970.jpg to Azure Data Lake...\u001B[0m\n",
       "\u001B[0;31mUploading Rice_Leaf_AUG/Sheath Blight/aug_0_9982.jpg to Azure Data Lake...\u001B[0m\n",
       "\u001B[0;31mUploading Rice_Leaf_AUG/Sheath Blight/aug_0_9985.jpg to Azure Data Lake...\u001B[0m\n",
       "\u001B[0;31mUploading Rice_Leaf_AUG/Sheath Blight/aug_0_9991.jpg to Azure Data Lake...\u001B[0m\n",
       "\u001B[0;31manshulm257/rice-disease-dataset uploaded successfully and temporary files deleted.\u001B[0m\n",
       "\u001B[0;31mDataset URL: https://www.kaggle.com/datasets/minhhuy2810/rice-diseases-image-dataset\u001B[0m"
      ]
     },
     "metadata": {
      "application/vnd.databricks.v1+output": {
       "arguments": {},
       "data": "\u001B[0;31m---------------------------------------------------------------------------\u001B[0m\n\u001B[0;31mThe Python process exited with exit code 137 (SIGKILL: Killed). This may have been caused by an OOM error. Check your command's memory usage.\u001B[0m\n\u001B[0;31m\u001B[0m\n\u001B[0;31m\u001B[0m\n\u001B[0;31m\u001B[0m\n\u001B[0;31mThe last 10 KB of the process's stderr and stdout can be found below. See driver logs for full logs.\u001B[0m\n\u001B[0;31m---------------------------------------------------------------------------\u001B[0m\n\u001B[0;31mLast messages on stderr:\u001B[0m\n\u001B[0;31mWed Mar 19 11:32:34 2025 Connection to spark from PID  19291\u001B[0m\n\u001B[0;31mWed Mar 19 11:32:34 2025 Initialized gateway on port 43963\u001B[0m\n\u001B[0;31mWed Mar 19 11:32:34 2025 Connected to spark.\u001B[0m\n\u001B[0;31m2025/03/19 11:32:37 WARNING mlflow.utils.autologging_utils: You are using an unsupported version of langchain. If you encounter errors during autologging, try upgrading / downgrading langchain to a supported version, or try upgrading MLflow.\u001B[0m\n\u001B[0;31m2025/03/19 11:32:38 WARNING mlflow.utils.autologging_utils: You are using an unsupported version of openai. If you encounter errors during autologging, try upgrading / downgrading openai to a supported version, or try upgrading MLflow.\u001B[0m\n\u001B[0;31m---------------------------------------------------------------------------\u001B[0m\n\u001B[0;31mLast messages on stdout:\u001B[0m\n\u001B[0;31m3.jpg to Azure Data Lake...\u001B[0m\n\u001B[0;31mUploading Rice_Leaf_AUG/Sheath Blight/aug_0_8867.jpg to Azure Data Lake...\u001B[0m\n\u001B[0;31mUploading Rice_Leaf_AUG/Sheath Blight/aug_0_8902.jpg to Azure Data Lake...\u001B[0m\n\u001B[0;31mUploading Rice_Leaf_AUG/Sheath Blight/aug_0_8907.jpg to Azure Data Lake...\u001B[0m\n\u001B[0;31mUploading Rice_Leaf_AUG/Sheath Blight/aug_0_8923.jpg to Azure Data Lake...\u001B[0m\n\u001B[0;31mUploading Rice_Leaf_AUG/Sheath Blight/aug_0_8933.jpg to Azure Data Lake...\u001B[0m\n\u001B[0;31mUploading Rice_Leaf_AUG/Sheath Blight/aug_0_8935.jpg to Azure Data Lake...\u001B[0m\n\u001B[0;31mUploading Rice_Leaf_AUG/Sheath Blight/aug_0_8966.jpg to Azure Data Lake...\u001B[0m\n\u001B[0;31mUploading Rice_Leaf_AUG/Sheath Blight/aug_0_8989.jpg to Azure Data Lake...\u001B[0m\n\u001B[0;31mUploading Rice_Leaf_AUG/Sheath Blight/aug_0_8999.jpg to Azure Data Lake...\u001B[0m\n\u001B[0;31mUploading Rice_Leaf_AUG/Sheath Blight/aug_0_90.jpg to Azure Data Lake...\u001B[0m\n\u001B[0;31mUploading Rice_Leaf_AUG/Sheath Blight/aug_0_9007.jpg to Azure Data Lake...\u001B[0m\n\u001B[0;31mUploading Rice_Leaf_AUG/Sheath Blight/aug_0_9011.jpg to Azure Data Lake...\u001B[0m\n\u001B[0;31mUploading Rice_Leaf_AUG/Sheath Blight/aug_0_9016.jpg to Azure Data Lake...\u001B[0m\n\u001B[0;31mUploading Rice_Leaf_AUG/Sheath Blight/aug_0_9021.jpg to Azure Data Lake...\u001B[0m\n\u001B[0;31mUploading Rice_Leaf_AUG/Sheath Blight/aug_0_9028.jpg to Azure Data Lake...\u001B[0m\n\u001B[0;31mUploading Rice_Leaf_AUG/Sheath Blight/aug_0_9038.jpg to Azure Data Lake...\u001B[0m\n\u001B[0;31mUploading Rice_Leaf_AUG/Sheath Blight/aug_0_9048.jpg to Azure Data Lake...\u001B[0m\n\u001B[0;31mUploading Rice_Leaf_AUG/Sheath Blight/aug_0_9066.jpg to Azure Data Lake...\u001B[0m\n\u001B[0;31mUploading Rice_Leaf_AUG/Sheath Blight/aug_0_9073.jpg to Azure Data Lake...\u001B[0m\n\u001B[0;31mUploading Rice_Leaf_AUG/Sheath Blight/aug_0_9077.jpg to Azure Data Lake...\u001B[0m\n\u001B[0;31mUploading Rice_Leaf_AUG/Sheath Blight/aug_0_9084.jpg to Azure Data Lake...\u001B[0m\n\u001B[0;31mUploading Rice_Leaf_AUG/Sheath Blight/aug_0_9093.jpg to Azure Data Lake...\u001B[0m\n\u001B[0;31mUploading Rice_Leaf_AUG/Sheath Blight/aug_0_9095.jpg to Azure Data Lake...\u001B[0m\n\u001B[0;31mUploading Rice_Leaf_AUG/Sheath Blight/aug_0_9100.jpg to Azure Data Lake...\u001B[0m\n\u001B[0;31mUploading Rice_Leaf_AUG/Sheath Blight/aug_0_9103.jpg to Azure Data Lake...\u001B[0m\n\u001B[0;31mUploading Rice_Leaf_AUG/Sheath Blight/aug_0_9121.jpg to Azure Data Lake...\u001B[0m\n\u001B[0;31mUploading Rice_Leaf_AUG/Sheath Blight/aug_0_9130.jpg to Azure Data Lake...\u001B[0m\n\u001B[0;31mUploading Rice_Leaf_AUG/Sheath Blight/aug_0_9134.jpg to Azure Data Lake...\u001B[0m\n\u001B[0;31mUploading Rice_Leaf_AUG/Sheath Blight/aug_0_9140.jpg to Azure Data Lake...\u001B[0m\n\u001B[0;31mUploading Rice_Leaf_AUG/Sheath Blight/aug_0_9141.jpg to Azure Data Lake...\u001B[0m\n\u001B[0;31mUploading Rice_Leaf_AUG/Sheath Blight/aug_0_9156.jpg to Azure Data Lake...\u001B[0m\n\u001B[0;31mUploading Rice_Leaf_AUG/Sheath Blight/aug_0_9161.jpg to Azure Data Lake...\u001B[0m\n\u001B[0;31mUploading Rice_Leaf_AUG/Sheath Blight/aug_0_9173.jpg to Azure Data Lake...\u001B[0m\n\u001B[0;31mUploading Rice_Leaf_AUG/Sheath Blight/aug_0_9180.jpg to Azure Data Lake...\u001B[0m\n\u001B[0;31mUploading Rice_Leaf_AUG/Sheath Blight/aug_0_9196.jpg to Azure Data Lake...\u001B[0m\n\u001B[0;31mUploading Rice_Leaf_AUG/Sheath Blight/aug_0_9197.jpg to Azure Data Lake...\u001B[0m\n\u001B[0;31mUploading Rice_Leaf_AUG/Sheath Blight/aug_0_9212.jpg to Azure Data Lake...\u001B[0m\n\u001B[0;31mUploading Rice_Leaf_AUG/Sheath Blight/aug_0_9227.jpg to Azure Data Lake...\u001B[0m\n\u001B[0;31mUploading Rice_Leaf_AUG/Sheath Blight/aug_0_9257.jpg to Azure Data Lake...\u001B[0m\n\u001B[0;31mUploading Rice_Leaf_AUG/Sheath Blight/aug_0_9258.jpg to Azure Data Lake...\u001B[0m\n\u001B[0;31mUploading Rice_Leaf_AUG/Sheath Blight/aug_0_9270.jpg to Azure Data Lake...\u001B[0m\n\u001B[0;31mUploading Rice_Leaf_AUG/Sheath Blight/aug_0_9274.jpg to Azure Data Lake...\u001B[0m\n\u001B[0;31mUploading Rice_Leaf_AUG/Sheath Blight/aug_0_93.jpg to Azure Data Lake...\u001B[0m\n\u001B[0;31mUploading Rice_Leaf_AUG/Sheath Blight/aug_0_9313.jpg to Azure Data Lake...\u001B[0m\n\u001B[0;31mUploading Rice_Leaf_AUG/Sheath Blight/aug_0_9317.jpg to Azure Data Lake...\u001B[0m\n\u001B[0;31mUploading Rice_Leaf_AUG/Sheath Blight/aug_0_9318.jpg to Azure Data Lake...\u001B[0m\n\u001B[0;31mUploading Rice_Leaf_AUG/Sheath Blight/aug_0_9333.jpg to Azure Data Lake...\u001B[0m\n\u001B[0;31mUploading Rice_Leaf_AUG/Sheath Blight/aug_0_9335.jpg to Azure Data Lake...\u001B[0m\n\u001B[0;31mUploading Rice_Leaf_AUG/Sheath Blight/aug_0_9338.jpg to Azure Data Lake...\u001B[0m\n\u001B[0;31mUploading Rice_Leaf_AUG/Sheath Blight/aug_0_9348.jpg to Azure Data Lake...\u001B[0m\n\u001B[0;31mUploading Rice_Leaf_AUG/Sheath Blight/aug_0_9351.jpg to Azure Data Lake...\u001B[0m\n\u001B[0;31mUploading Rice_Leaf_AUG/Sheath Blight/aug_0_9353.jpg to Azure Data Lake...\u001B[0m\n\u001B[0;31mUploading Rice_Leaf_AUG/Sheath Blight/aug_0_9361.jpg to Azure Data Lake...\u001B[0m\n\u001B[0;31mUploading Rice_Leaf_AUG/Sheath Blight/aug_0_9363.jpg to Azure Data Lake...\u001B[0m\n\u001B[0;31mUploading Rice_Leaf_AUG/Sheath Blight/aug_0_9364.jpg to Azure Data Lake...\u001B[0m\n\u001B[0;31mUploading Rice_Leaf_AUG/Sheath Blight/aug_0_9367.jpg to Azure Data Lake...\u001B[0m\n\u001B[0;31mUploading Rice_Leaf_AUG/Sheath Blight/aug_0_9384.jpg to Azure Data Lake...\u001B[0m\n\u001B[0;31mUploading Rice_Leaf_AUG/Sheath Blight/aug_0_9399.jpg to Azure Data Lake...\u001B[0m\n\u001B[0;31mUploading Rice_Leaf_AUG/Sheath Blight/aug_0_9400.jpg to Azure Data Lake...\u001B[0m\n\u001B[0;31mUploading Rice_Leaf_AUG/Sheath Blight/aug_0_9401.jpg to Azure Data Lake...\u001B[0m\n\u001B[0;31mUploading Rice_Leaf_AUG/Sheath Blight/aug_0_9403.jpg to Azure Data Lake...\u001B[0m\n\u001B[0;31mUploading Rice_Leaf_AUG/Sheath Blight/aug_0_9405.jpg to Azure Data Lake...\u001B[0m\n\u001B[0;31mUploading Rice_Leaf_AUG/Sheath Blight/aug_0_9419.jpg to Azure Data Lake...\u001B[0m\n\u001B[0;31mUploading Rice_Leaf_AUG/Sheath Blight/aug_0_9420.jpg to Azure Data Lake...\u001B[0m\n\u001B[0;31mUploading Rice_Leaf_AUG/Sheath Blight/aug_0_9431.jpg to Azure Data Lake...\u001B[0m\n\u001B[0;31mUploading Rice_Leaf_AUG/Sheath Blight/aug_0_9450.jpg to Azure Data Lake...\u001B[0m\n\u001B[0;31mUploading Rice_Leaf_AUG/Sheath Blight/aug_0_9458.jpg to Azure Data Lake...\u001B[0m\n\u001B[0;31mUploading Rice_Leaf_AUG/Sheath Blight/aug_0_9468.jpg to Azure Data Lake...\u001B[0m\n\u001B[0;31mUploading Rice_Leaf_AUG/Sheath Blight/aug_0_9474.jpg to Azure Data Lake...\u001B[0m\n\u001B[0;31mUploading Rice_Leaf_AUG/Sheath Blight/aug_0_9480.jpg to Azure Data Lake...\u001B[0m\n\u001B[0;31mUploading Rice_Leaf_AUG/Sheath Blight/aug_0_9483.jpg to Azure Data Lake...\u001B[0m\n\u001B[0;31mUploading Rice_Leaf_AUG/Sheath Blight/aug_0_9486.jpg to Azure Data Lake...\u001B[0m\n\u001B[0;31mUploading Rice_Leaf_AUG/Sheath Blight/aug_0_9487.jpg to Azure Data Lake...\u001B[0m\n\u001B[0;31mUploading Rice_Leaf_AUG/Sheath Blight/aug_0_9488.jpg to Azure Data Lake...\u001B[0m\n\u001B[0;31mUploading Rice_Leaf_AUG/Sheath Blight/aug_0_9508.jpg to Azure Data Lake...\u001B[0m\n\u001B[0;31mUploading Rice_Leaf_AUG/Sheath Blight/aug_0_9512.jpg to Azure Data Lake...\u001B[0m\n\u001B[0;31mUploading Rice_Leaf_AUG/Sheath Blight/aug_0_9525.jpg to Azure Data Lake...\u001B[0m\n\u001B[0;31mUploading Rice_Leaf_AUG/Sheath Blight/aug_0_9527.jpg to Azure Data Lake...\u001B[0m\n\u001B[0;31mUploading Rice_Leaf_AUG/Sheath Blight/aug_0_9533.jpg to Azure Data Lake...\u001B[0m\n\u001B[0;31mUploading Rice_Leaf_AUG/Sheath Blight/aug_0_9537.jpg to Azure Data Lake...\u001B[0m\n\u001B[0;31mUploading Rice_Leaf_AUG/Sheath Blight/aug_0_9547.jpg to Azure Data Lake...\u001B[0m\n\u001B[0;31mUploading Rice_Leaf_AUG/Sheath Blight/aug_0_9553.jpg to Azure Data Lake...\u001B[0m\n\u001B[0;31mUploading Rice_Leaf_AUG/Sheath Blight/aug_0_9558.jpg to Azure Data Lake...\u001B[0m\n\u001B[0;31mUploading Rice_Leaf_AUG/Sheath Blight/aug_0_9559.jpg to Azure Data Lake...\u001B[0m\n\u001B[0;31mUploading Rice_Leaf_AUG/Sheath Blight/aug_0_9575.jpg to Azure Data Lake...\u001B[0m\n\u001B[0;31mUploading Rice_Leaf_AUG/Sheath Blight/aug_0_9584.jpg to Azure Data Lake...\u001B[0m\n\u001B[0;31mUploading Rice_Leaf_AUG/Sheath Blight/aug_0_9586.jpg to Azure Data Lake...\u001B[0m\n\u001B[0;31mUploading Rice_Leaf_AUG/Sheath Blight/aug_0_9587.jpg to Azure Data Lake...\u001B[0m\n\u001B[0;31mUploading Rice_Leaf_AUG/Sheath Blight/aug_0_9592.jpg to Azure Data Lake...\u001B[0m\n\u001B[0;31mUploading Rice_Leaf_AUG/Sheath Blight/aug_0_9623.jpg to Azure Data Lake...\u001B[0m\n\u001B[0;31mUploading Rice_Leaf_AUG/Sheath Blight/aug_0_9641.jpg to Azure Data Lake...\u001B[0m\n\u001B[0;31mUploading Rice_Leaf_AUG/Sheath Blight/aug_0_9662.jpg to Azure Data Lake...\u001B[0m\n\u001B[0;31mUploading Rice_Leaf_AUG/Sheath Blight/aug_0_9665.jpg to Azure Data Lake...\u001B[0m\n\u001B[0;31mUploading Rice_Leaf_AUG/Sheath Blight/aug_0_9674.jpg to Azure Data Lake...\u001B[0m\n\u001B[0;31mUploading Rice_Leaf_AUG/Sheath Blight/aug_0_9677.jpg to Azure Data Lake...\u001B[0m\n\u001B[0;31mUploading Rice_Leaf_AUG/Sheath Blight/aug_0_9678.jpg to Azure Data Lake...\u001B[0m\n\u001B[0;31mUploading Rice_Leaf_AUG/Sheath Blight/aug_0_9683.jpg to Azure Data Lake...\u001B[0m\n\u001B[0;31mUploading Rice_Leaf_AUG/Sheath Blight/aug_0_9688.jpg to Azure Data Lake...\u001B[0m\n\u001B[0;31mUploading Rice_Leaf_AUG/Sheath Blight/aug_0_9716.jpg to Azure Data Lake...\u001B[0m\n\u001B[0;31mUploading Rice_Leaf_AUG/Sheath Blight/aug_0_9739.jpg to Azure Data Lake...\u001B[0m\n\u001B[0;31mUploading Rice_Leaf_AUG/Sheath Blight/aug_0_9780.jpg to Azure Data Lake...\u001B[0m\n\u001B[0;31mUploading Rice_Leaf_AUG/Sheath Blight/aug_0_9791.jpg to Azure Data Lake...\u001B[0m\n\u001B[0;31mUploading Rice_Leaf_AUG/Sheath Blight/aug_0_9799.jpg to Azure Data Lake...\u001B[0m\n\u001B[0;31mUploading Rice_Leaf_AUG/Sheath Blight/aug_0_9802.jpg to Azure Data Lake...\u001B[0m\n\u001B[0;31mUploading Rice_Leaf_AUG/Sheath Blight/aug_0_9803.jpg to Azure Data Lake...\u001B[0m\n\u001B[0;31mUploading Rice_Leaf_AUG/Sheath Blight/aug_0_9805.jpg to Azure Data Lake...\u001B[0m\n\u001B[0;31mUploading Rice_Leaf_AUG/Sheath Blight/aug_0_9807.jpg to Azure Data Lake...\u001B[0m\n\u001B[0;31mUploading Rice_Leaf_AUG/Sheath Blight/aug_0_9828.jpg to Azure Data Lake...\u001B[0m\n\u001B[0;31mUploading Rice_Leaf_AUG/Sheath Blight/aug_0_9830.jpg to Azure Data Lake...\u001B[0m\n\u001B[0;31mUploading Rice_Leaf_AUG/Sheath Blight/aug_0_9835.jpg to Azure Data Lake...\u001B[0m\n\u001B[0;31mUploading Rice_Leaf_AUG/Sheath Blight/aug_0_9839.jpg to Azure Data Lake...\u001B[0m\n\u001B[0;31mUploading Rice_Leaf_AUG/Sheath Blight/aug_0_9845.jpg to Azure Data Lake...\u001B[0m\n\u001B[0;31mUploading Rice_Leaf_AUG/Sheath Blight/aug_0_9867.jpg to Azure Data Lake...\u001B[0m\n\u001B[0;31mUploading Rice_Leaf_AUG/Sheath Blight/aug_0_9873.jpg to Azure Data Lake...\u001B[0m\n\u001B[0;31mUploading Rice_Leaf_AUG/Sheath Blight/aug_0_9874.jpg to Azure Data Lake...\u001B[0m\n\u001B[0;31mUploading Rice_Leaf_AUG/Sheath Blight/aug_0_9878.jpg to Azure Data Lake...\u001B[0m\n\u001B[0;31mUploading Rice_Leaf_AUG/Sheath Blight/aug_0_9883.jpg to Azure Data Lake...\u001B[0m\n\u001B[0;31mUploading Rice_Leaf_AUG/Sheath Blight/aug_0_9887.jpg to Azure Data Lake...\u001B[0m\n\u001B[0;31mUploading Rice_Leaf_AUG/Sheath Blight/aug_0_9890.jpg to Azure Data Lake...\u001B[0m\n\u001B[0;31mUploading Rice_Leaf_AUG/Sheath Blight/aug_0_9894.jpg to Azure Data Lake...\u001B[0m\n\u001B[0;31mUploading Rice_Leaf_AUG/Sheath Blight/aug_0_9899.jpg to Azure Data Lake...\u001B[0m\n\u001B[0;31mUploading Rice_Leaf_AUG/Sheath Blight/aug_0_99.jpg to Azure Data Lake...\u001B[0m\n\u001B[0;31mUploading Rice_Leaf_AUG/Sheath Blight/aug_0_9901.jpg to Azure Data Lake...\u001B[0m\n\u001B[0;31mUploading Rice_Leaf_AUG/Sheath Blight/aug_0_9907.jpg to Azure Data Lake...\u001B[0m\n\u001B[0;31mUploading Rice_Leaf_AUG/Sheath Blight/aug_0_9918.jpg to Azure Data Lake...\u001B[0m\n\u001B[0;31mUploading Rice_Leaf_AUG/Sheath Blight/aug_0_9919.jpg to Azure Data Lake...\u001B[0m\n\u001B[0;31mUploading Rice_Leaf_AUG/Sheath Blight/aug_0_9935.jpg to Azure Data Lake...\u001B[0m\n\u001B[0;31mUploading Rice_Leaf_AUG/Sheath Blight/aug_0_9942.jpg to Azure Data Lake...\u001B[0m\n\u001B[0;31mUploading Rice_Leaf_AUG/Sheath Blight/aug_0_9947.jpg to Azure Data Lake...\u001B[0m\n\u001B[0;31mUploading Rice_Leaf_AUG/Sheath Blight/aug_0_9955.jpg to Azure Data Lake...\u001B[0m\n\u001B[0;31mUploading Rice_Leaf_AUG/Sheath Blight/aug_0_9970.jpg to Azure Data Lake...\u001B[0m\n\u001B[0;31mUploading Rice_Leaf_AUG/Sheath Blight/aug_0_9982.jpg to Azure Data Lake...\u001B[0m\n\u001B[0;31mUploading Rice_Leaf_AUG/Sheath Blight/aug_0_9985.jpg to Azure Data Lake...\u001B[0m\n\u001B[0;31mUploading Rice_Leaf_AUG/Sheath Blight/aug_0_9991.jpg to Azure Data Lake...\u001B[0m\n\u001B[0;31manshulm257/rice-disease-dataset uploaded successfully and temporary files deleted.\u001B[0m\n\u001B[0;31mDataset URL: https://www.kaggle.com/datasets/minhhuy2810/rice-diseases-image-dataset\u001B[0m",
       "errorSummary": "<span class='ansi-red-fg'>Fatal error</span>: The Python kernel is unresponsive.",
       "errorTraceType": "ansi",
       "metadata": {},
       "type": "ipynbError"
      }
     },
     "output_type": "display_data"
    }
   ],
   "source": [
    "import shutil\n",
    "\n",
    "# Download the entire dataset to the temporary directory\n",
    "print(\"Downloading dataset from Kaggle...\")\n",
    "\n",
    "for dataset in datasets:\n",
    "    # Create a temporary directory in Databricks\n",
    "    temp_dir = \"/dbfs/tmp/kaggle_datasets/\"\n",
    "    os.makedirs(temp_dir, exist_ok=True)\n",
    "\n",
    "    api.dataset_download_files(dataset, path=temp_dir, unzip=True)\n",
    "\n",
    "    # Upload each file to Azure Data Lake\n",
    "    for root, _, files in os.walk(temp_dir):\n",
    "        for file_name in files:\n",
    "            file_path = os.path.join(root, file_name)\n",
    "            blob_path = os.path.relpath(file_path, temp_dir)  # Preserve folder structure\n",
    "\n",
    "            print(f\"Uploading {blob_path} to Azure Data Lake...\")\n",
    "\n",
    "            # Read file in binary mode\n",
    "            with open(file_path, \"rb\") as data:\n",
    "                blob_client = container_client.get_blob_client(blob_path)\n",
    "                blob_client.upload_blob(data, overwrite=True)\n",
    "            \n",
    "    # Clean up local files\n",
    "    shutil.rmtree(temp_dir)\n",
    "    print(f\"{dataset} uploaded successfully and temporary files deleted.\")\n",
    "\n",
    "print(\"All datasets uploaded successfully.\")\n"
   ]
  },
  {
   "cell_type": "code",
   "execution_count": 0,
   "metadata": {
    "application/vnd.databricks.v1+cell": {
     "cellMetadata": {
      "byteLimit": 2048000,
      "rowLimit": 10000
     },
     "inputWidgets": {},
     "nuid": "5a0a7025-b6e7-44a7-b3d2-aed854a6a7f1",
     "showTitle": false,
     "tableResultSettingsMap": {},
     "title": ""
    }
   },
   "outputs": [
    {
     "output_type": "stream",
     "name": "stdout",
     "output_type": "stream",
     "text": [
      "✅ All datasets uploaded successfully and temporary files deleted.\n"
     ]
    }
   ],
   "source": [
    "# Clean up local files\n",
    "import shutil\n",
    "\n",
    "temp_dir = \"/dbfs/tmp/kaggle_datasets/\"\n",
    "shutil.rmtree(temp_dir)\n",
    "print(\"✅ All datasets uploaded successfully and temporary files deleted.\")"
   ]
  },
  {
   "cell_type": "code",
   "execution_count": 0,
   "metadata": {
    "application/vnd.databricks.v1+cell": {
     "cellMetadata": {
      "byteLimit": 2048000,
      "rowLimit": 10000
     },
     "inputWidgets": {},
     "nuid": "f6dd519c-5661-485d-89b0-22b0bb331023",
     "showTitle": false,
     "tableResultSettingsMap": {},
     "title": ""
    }
   },
   "outputs": [
    {
     "output_type": "display_data",
     "data": {
      "text/html": [
       "<style scoped>\n",
       "  .table-result-container {\n",
       "    max-height: 300px;\n",
       "    overflow: auto;\n",
       "  }\n",
       "  table, th, td {\n",
       "    border: 1px solid black;\n",
       "    border-collapse: collapse;\n",
       "  }\n",
       "  th, td {\n",
       "    padding: 5px;\n",
       "  }\n",
       "  th {\n",
       "    text-align: left;\n",
       "  }\n",
       "</style><div class='table-result-container'><table class='table-result'><thead style='background-color: white'><tr><th>path</th><th>name</th><th>size</th><th>modificationTime</th></tr></thead><tbody><tr><td>abfss://rawkaggledata@projectrouge6363905707.dfs.core.windows.net/Rice Leaf Disease Images/</td><td>Rice Leaf Disease Images/</td><td>0</td><td>1742385710000</td></tr><tr><td>abfss://rawkaggledata@projectrouge6363905707.dfs.core.windows.net/Rice_Leaf_AUG/</td><td>Rice_Leaf_AUG/</td><td>0</td><td>1742386506000</td></tr><tr><td>abfss://rawkaggledata@projectrouge6363905707.dfs.core.windows.net/rice_leaf_diseases/</td><td>rice_leaf_diseases/</td><td>0</td><td>1742383328000</td></tr></tbody></table></div>"
      ]
     },
     "metadata": {
      "application/vnd.databricks.v1+output": {
       "addedWidgets": {},
       "aggData": [],
       "aggError": "",
       "aggOverflow": false,
       "aggSchema": [],
       "aggSeriesLimitReached": false,
       "aggType": "",
       "arguments": {},
       "columnCustomDisplayInfos": {},
       "data": [
        [
         "abfss://rawkaggledata@projectrouge6363905707.dfs.core.windows.net/Rice Leaf Disease Images/",
         "Rice Leaf Disease Images/",
         0,
         1742385710000
        ],
        [
         "abfss://rawkaggledata@projectrouge6363905707.dfs.core.windows.net/Rice_Leaf_AUG/",
         "Rice_Leaf_AUG/",
         0,
         1742386506000
        ],
        [
         "abfss://rawkaggledata@projectrouge6363905707.dfs.core.windows.net/rice_leaf_diseases/",
         "rice_leaf_diseases/",
         0,
         1742383328000
        ]
       ],
       "datasetInfos": [],
       "dbfsResultPath": null,
       "isJsonSchema": true,
       "metadata": {},
       "overflow": false,
       "plotOptions": {
        "customPlotOptions": {},
        "displayType": "table",
        "pivotAggregation": null,
        "pivotColumns": null,
        "xColumns": null,
        "yColumns": null
       },
       "removedWidgets": [],
       "schema": [
        {
         "metadata": "{}",
         "name": "path",
         "type": "\"string\""
        },
        {
         "metadata": "{}",
         "name": "name",
         "type": "\"string\""
        },
        {
         "metadata": "{}",
         "name": "size",
         "type": "\"long\""
        },
        {
         "metadata": "{}",
         "name": "modificationTime",
         "type": "\"long\""
        }
       ],
       "type": "table"
      }
     },
     "output_type": "display_data"
    }
   ],
   "source": [
    "# verify that the dataset is available in the specified storage account/container.\n",
    "spark.conf.set(\n",
    "    f\"fs.azure.account.key.{STORAGE_ACCOUNT_NAME}.dfs.core.windows.net\",\n",
    "    f\"{STORAGE_ACCOUNT_KEY}\"\n",
    ")\n",
    "\n",
    "display(dbutils.fs.ls(f\"abfss://{CONTAINER_NAME}@{STORAGE_ACCOUNT_NAME}.dfs.core.windows.net/\"))\n"
   ]
  }
 ],
 "metadata": {
  "application/vnd.databricks.v1+notebook": {
   "computePreferences": null,
   "dashboards": [],
   "environmentMetadata": {
    "base_environment": "",
    "environment_version": "2"
   },
   "language": "python",
   "notebookMetadata": {
    "pythonIndentUnit": 4
   },
   "notebookName": "ingest kaggle datasets",
   "widgets": {}
  },
  "language_info": {
   "name": "python"
  }
 },
 "nbformat": 4,
 "nbformat_minor": 0
}
