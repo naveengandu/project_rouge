{
 "cells": [
  {
   "cell_type": "code",
   "execution_count": 0,
   "metadata": {
    "application/vnd.databricks.v1+cell": {
     "cellMetadata": {
      "byteLimit": 2048000,
      "rowLimit": 10000
     },
     "inputWidgets": {},
     "nuid": "e929e710-636a-4741-b84a-4638c25c21dd",
     "showTitle": false,
     "tableResultSettingsMap": {},
     "title": ""
    }
   },
   "outputs": [],
   "source": [
    "%pip install databricks.sdk"
   ]
  },
  {
   "cell_type": "code",
   "execution_count": 0,
   "metadata": {
    "application/vnd.databricks.v1+cell": {
     "cellMetadata": {
      "byteLimit": 2048000,
      "rowLimit": 10000
     },
     "inputWidgets": {},
     "nuid": "088421d4-239e-4712-8ccf-6117e1e9c391",
     "showTitle": false,
     "tableResultSettingsMap": {},
     "title": ""
    }
   },
   "outputs": [],
   "source": [
    "# Import necessary modules\n",
    "\n",
    "# Storage\n",
    "from azure.storage.filedatalake import DataLakeServiceClient\n",
    "import databricks.sdk\n",
    "\n",
    "# Other\n",
    "import random\n",
    "import os\n",
    "from databricks.sdk.service.catalog import VolumeType"
   ]
  },
  {
   "cell_type": "code",
   "execution_count": 0,
   "metadata": {
    "application/vnd.databricks.v1+cell": {
     "cellMetadata": {
      "byteLimit": 2048000,
      "rowLimit": 10000
     },
     "inputWidgets": {},
     "nuid": "7c2f689e-f545-4f08-9384-3a8c0562b8f4",
     "showTitle": false,
     "tableResultSettingsMap": {},
     "title": ""
    }
   },
   "outputs": [],
   "source": [
    "# Assign storage account and containers values to var\n",
    "account_name = \"rougestorageacc1\"\n",
    "account_key = dbutils.secrets.get(scope=\"rouge4kv1\", key=\"rougestorageacc1key1\")\n",
    "source_container = \"stagekaggledata\"\n",
    "dest_container = \"processkaggledata\"\n",
    "train_ratio = 0.8"
   ]
  },
  {
   "cell_type": "code",
   "execution_count": 0,
   "metadata": {
    "application/vnd.databricks.v1+cell": {
     "cellMetadata": {
      "byteLimit": 2048000,
      "rowLimit": 10000
     },
     "inputWidgets": {},
     "nuid": "bb2e57cb-e45e-4d88-9c13-3c0d2e1e1fe1",
     "showTitle": false,
     "tableResultSettingsMap": {},
     "title": ""
    }
   },
   "outputs": [],
   "source": [
    "# Authenticate using account key\n",
    "service_client = DataLakeServiceClient(\n",
    "    account_url=f\"https://{account_name}.dfs.core.windows.net\",\n",
    "    credential=account_key\n",
    ")\n",
    "\n",
    "source_fs = service_client.get_file_system_client(file_system=source_container)\n",
    "dest_fs = service_client.get_file_system_client(file_system=dest_container)"
   ]
  },
  {
   "cell_type": "code",
   "execution_count": 0,
   "metadata": {
    "application/vnd.databricks.v1+cell": {
     "cellMetadata": {
      "byteLimit": 2048000,
      "rowLimit": 10000
     },
     "inputWidgets": {},
     "nuid": "ee83fc32-b2e6-4ddc-9a55-9c5306072ab5",
     "showTitle": false,
     "tableResultSettingsMap": {},
     "title": ""
    }
   },
   "outputs": [],
   "source": [
    "# verify access to the container of interest.\n",
    "spark.conf.set(\n",
    "    f\"fs.azure.account.key.{account_name}.dfs.core.windows.net\",\n",
    "    f\"{account_key}\"\n",
    ")\n",
    "\n",
    "display(dbutils.fs.ls(f\"abfss://{dest_container}@{account_name}.dfs.core.windows.net/train\"))"
   ]
  },
  {
   "cell_type": "markdown",
   "metadata": {
    "application/vnd.databricks.v1+cell": {
     "cellMetadata": {},
     "inputWidgets": {},
     "nuid": "ece0aef9-caa7-43f4-a284-a59c69e3e0de",
     "showTitle": false,
     "tableResultSettingsMap": {},
     "title": ""
    }
   },
   "source": [
    "Create a unity catalog volume for downstream processing of the data - downstream ml libraries can't work with a URL input for data location."
   ]
  },
  {
   "cell_type": "code",
   "execution_count": 0,
   "metadata": {
    "application/vnd.databricks.v1+cell": {
     "cellMetadata": {
      "byteLimit": 2048000,
      "rowLimit": 10000
     },
     "inputWidgets": {},
     "nuid": "40e45153-e639-4b05-8f45-627181e59700",
     "showTitle": false,
     "tableResultSettingsMap": {},
     "title": ""
    }
   },
   "outputs": [],
   "source": [
    "# Create a unity catalog volume for downstream processing of the data (datagen.flow_from_directory() requires a volume, i.e. it doesn't work with an external location) \n",
    "\n",
    "#Assign values to var\n",
    "db_client = databricks.sdk.WorkspaceClient()\n",
    "\n",
    "catalog = \"main\"\n",
    "schema = \"ml_data\"\n",
    "volume_name = \"processkaggledata\"\n",
    "volume_path = \"abfss://processkaggledata@rougestorageacc1.dfs.core.windows.net/\"\n",
    "managed_location = \"abfss://metastore-root@rougestorageacc1.dfs.core.windows.net/unity-catalog\""
   ]
  },
  {
   "cell_type": "code",
   "execution_count": 0,
   "metadata": {
    "application/vnd.databricks.v1+cell": {
     "cellMetadata": {},
     "inputWidgets": {},
     "nuid": "f2a9dcb6-26c1-4bf4-a224-fe44a81b5507",
     "showTitle": false,
     "tableResultSettingsMap": {},
     "title": ""
    }
   },
   "outputs": [],
   "source": [
    "# Create a storage credential\n",
    "\n",
    "cred_name = \"rouge4cred1\"\n",
    "rouge4acmi = databricks.sdk.service.catalog.AzureManagedIdentity(access_connector_id=\"/subscriptions/f26a4615-66a4-4095-9a0d-dc252e5dba73/resourceGroups/rouge_databricks_managed_rg/providers/Microsoft.Databricks/accessConnectors/unity-catalog-access-connector\")\n",
    "\n",
    "try:\n",
    "    db_client.storage_credentials.create(\n",
    "        name=cred_name,\n",
    "        azure_managed_identity=rouge4acmi\n",
    "    )\n",
    "except databricks.sdk.errors.platform.BadRequest as e:\n",
    "    if \"already exists\" in str(e):\n",
    "        print(f\"Credential '{cred_name}' already exists.\")\n",
    "    else:\n",
    "        raise e"
   ]
  },
  {
   "cell_type": "code",
   "execution_count": 0,
   "metadata": {
    "application/vnd.databricks.v1+cell": {
     "cellMetadata": {
      "byteLimit": 2048000,
      "rowLimit": 10000
     },
     "inputWidgets": {},
     "nuid": "800351d6-b6c5-449a-82ed-5222089c1a68",
     "showTitle": false,
     "tableResultSettingsMap": {},
     "title": ""
    }
   },
   "outputs": [],
   "source": [
    "# Create the external location\n",
    "ext_loc_name = f\"{volume_name}_extloc\"\n",
    "\n",
    "try:\n",
    "    db_client.external_locations.create(\n",
    "        name=ext_loc_name,\n",
    "        url=volume_path,\n",
    "        credential_name=\"rouge4cred1\"  # Replace with your actual storage credential name\n",
    "    )\n",
    "    print(f\"✅ External location '{ext_loc_name}' created.\")\n",
    "except databricks.sdk.errors.platform.BadRequest as e:\n",
    "    if \"already exists\" in str(e):\n",
    "        print(f\"External location '{ext_loc_name}' already exists.\")\n",
    "    else:\n",
    "        raise e"
   ]
  },
  {
   "cell_type": "code",
   "execution_count": 0,
   "metadata": {
    "application/vnd.databricks.v1+cell": {
     "cellMetadata": {
      "byteLimit": 2048000,
      "rowLimit": 10000
     },
     "inputWidgets": {},
     "nuid": "aa9209bc-45c7-42d9-8093-3703f38d320f",
     "showTitle": false,
     "tableResultSettingsMap": {},
     "title": ""
    }
   },
   "outputs": [],
   "source": [
    "# Create the catalog\n",
    "try:\n",
    "    db_client.catalogs.create(name=catalog, comment=\"Catalog for rice disease ML data\", storage_root=managed_location)\n",
    "    print(f\"✅ Catalog '{catalog}' created.\")\n",
    "except databricks.sdk.errors.platform.BadRequest as e:\n",
    "    if \"already exists\" in str(e):\n",
    "        print(f\"Catalog '{catalog}' already exists.\")\n",
    "    else:\n",
    "        raise e"
   ]
  },
  {
   "cell_type": "code",
   "execution_count": 0,
   "metadata": {
    "application/vnd.databricks.v1+cell": {
     "cellMetadata": {
      "byteLimit": 2048000,
      "rowLimit": 10000
     },
     "inputWidgets": {},
     "nuid": "cd8b9994-9120-400c-9d94-036038625b53",
     "showTitle": false,
     "tableResultSettingsMap": {},
     "title": ""
    }
   },
   "outputs": [],
   "source": [
    "# Create the schema\n",
    "try:\n",
    "    db_client.schemas.create(\n",
    "        name=schema,\n",
    "        catalog_name=catalog,\n",
    "        comment=\"Schema for training volumes and models\"\n",
    "    )\n",
    "    print(f\"✅ Schema '{schema}' created in catalog '{catalog}'.\")\n",
    "except databricks.sdk.errors.platform.BadRequest as e:\n",
    "    if \"already exists\" in str(e):\n",
    "        print(f\"Schema '{schema}' already exists in catalog '{catalog}'.\")\n",
    "    else:\n",
    "        raise e\n"
   ]
  },
  {
   "cell_type": "code",
   "execution_count": 0,
   "metadata": {
    "application/vnd.databricks.v1+cell": {
     "cellMetadata": {
      "byteLimit": 2048000,
      "rowLimit": 10000
     },
     "inputWidgets": {},
     "nuid": "22403c66-b27d-495a-9318-0ce8b6cfcedc",
     "showTitle": false,
     "tableResultSettingsMap": {},
     "title": ""
    }
   },
   "outputs": [],
   "source": [
    "# Create the volume\n",
    "try:\n",
    "    volume = db_client.volumes.create(\n",
    "        catalog_name=catalog,\n",
    "        schema_name=schema,\n",
    "        name=volume_name,\n",
    "        volume_type=VolumeType.EXTERNAL,  # or \"managed\"\n",
    "        storage_location=volume_path\n",
    "    )\n",
    "    print(f\"✅ Volume created: {volume.full_name}\")\n",
    "except databricks.sdk.errors.ResourceAlreadyExists:\n",
    "    print(f\"Volume '{volume_name}' already exists.\")"
   ]
  }
 ],
 "metadata": {
  "application/vnd.databricks.v1+notebook": {
   "computePreferences": null,
   "dashboards": [],
   "environmentMetadata": {
    "base_environment": "",
    "environment_version": "2"
   },
   "inputWidgetPreferences": null,
   "language": "python",
   "notebookMetadata": {
    "mostRecentlyExecutedCommandWithImplicitDF": {
     "commandId": 289984376699921,
     "dataframes": [
      "_sqldf"
     ]
    },
    "pythonIndentUnit": 4
   },
   "notebookName": "create_ext_location",
   "widgets": {}
  },
  "language_info": {
   "name": "python"
  }
 },
 "nbformat": 4,
 "nbformat_minor": 0
}
