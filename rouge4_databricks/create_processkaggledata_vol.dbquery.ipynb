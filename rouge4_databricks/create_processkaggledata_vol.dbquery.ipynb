{
 "cells": [
  {
   "cell_type": "code",
   "execution_count": 0,
   "metadata": {
    "application/vnd.databricks.v1+cell": {
     "cellMetadata": {},
     "inputWidgets": {},
     "nuid": "bd198674-3ba9-4dd3-a50d-3e28da247225",
     "showTitle": false,
     "tableResultSettingsMap": {},
     "title": ""
    }
   },
   "outputs": [],
   "source": [
    "CREATE STORAGE CREDENTIAL adls_key_credential\n",
    "WITH AZURE_STORAGE_ACCOUNT_KEY = (\n",
    "  SELECT value FROM secrets.rouge4kv1.rougestorageacc1key1\n",
    ")\n",
    "STORAGE_ACCOUNT_NAME = 'rougestorageacc1';\n",
    "\n",
    "CREATE EXTERNAL LOCATION processkaggledata\n",
    "URL 'abfss://processkaggledata@rougestorageacc1.dfs.core.windows.net/'\n",
    "WITH STORAGE CREDENTIAL adls_key_credential;\n",
    "\n",
    "USE CATALOG main;\n",
    "USE SCHEMA ml_data;\n",
    "\n",
    "CREATE VOLUME processkaggledata\n",
    "LOCATION 'abfss://processkaggledata@rougestorageacc1.dfs.core.windows.net/';"
   ]
  }
 ],
 "metadata": {
  "application/vnd.databricks.v1+notebook": {
   "computePreferences": null,
   "dashboards": [],
   "environmentMetadata": null,
   "inputWidgetPreferences": null,
   "language": "sql",
   "notebookMetadata": {
    "sqlQueryOptions": {
     "applyAutoLimit": true,
     "catalog": "rouge4",
     "schema": "default"
    }
   },
   "notebookName": "create_processkaggledata_vol.dbquery.ipynb",
   "widgets": {}
  },
  "language_info": {
   "name": "sql"
  }
 },
 "nbformat": 4,
 "nbformat_minor": 0
}
